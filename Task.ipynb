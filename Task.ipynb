{
 "cells": [
  {
   "cell_type": "code",
   "execution_count": 1,
   "metadata": {},
   "outputs": [],
   "source": [
    "import numpy as np\n",
    "import pandas as pd"
   ]
  },
  {
   "cell_type": "code",
   "execution_count": 2,
   "metadata": {},
   "outputs": [],
   "source": [
    "data = pd.read_csv(\"data_analytics.csv\")[[\"Event Date\", \"Subscriber ID\"]]\n",
    "data[\"Event Date\"] = pd.to_datetime(data[\"Event Date\"])"
   ]
  },
  {
   "cell_type": "code",
   "execution_count": 8,
   "metadata": {},
   "outputs": [],
   "source": [
    "def perform_calculations(\n",
    "        data: str, price: float, fee: float, with_retention=True\n",
    "        ):\n",
    "    data = (data\n",
    "            .groupby(by=\"Subscriber ID\").count()\n",
    "            .reset_index()\n",
    "            .groupby(by=\"Event Date\").count()\n",
    "            .sort_index()\n",
    "            )[\"Subscriber ID\"]\n",
    "    weeks, user_counts = data.index.values - 1, data.values\n",
    "\n",
    "    if with_retention:\n",
    "        users = user_counts[::-1].cumsum()[::-1]\n",
    "        retention = users[1:] / users[0:-1]\n",
    "        ltv = retention.cumprod().sum() * price * (1 - fee)\n",
    "    else:\n",
    "        ltv = (\n",
    "            weeks * user_counts * price * (1 - fee)\n",
    "        ).sum() / user_counts.sum()\n",
    "\n",
    "    return ltv"
   ]
  },
  {
   "cell_type": "code",
   "execution_count": 9,
   "metadata": {},
   "outputs": [
    {
     "name": "stdout",
     "output_type": "stream",
     "text": [
      "1.26 ms ± 2.63 µs per loop (mean ± std. dev. of 7 runs, 1000 loops each)\n"
     ]
    }
   ],
   "source": [
    "%timeit perform_calculations(data, 9.99, 0.3, True)"
   ]
  },
  {
   "cell_type": "code",
   "execution_count": 10,
   "metadata": {},
   "outputs": [
    {
     "name": "stdout",
     "output_type": "stream",
     "text": [
      "1.26 ms ± 3.83 µs per loop (mean ± std. dev. of 7 runs, 1000 loops each)\n"
     ]
    }
   ],
   "source": [
    "%timeit perform_calculations(data, 9.99, 0.3, False)"
   ]
  },
  {
   "cell_type": "code",
   "execution_count": null,
   "metadata": {},
   "outputs": [],
   "source": []
  }
 ],
 "metadata": {
  "kernelspec": {
   "display_name": "Python [conda env:int20h]",
   "language": "python",
   "name": "conda-env-int20h-py"
  },
  "language_info": {
   "codemirror_mode": {
    "name": "ipython",
    "version": 3
   },
   "file_extension": ".py",
   "mimetype": "text/x-python",
   "name": "python",
   "nbconvert_exporter": "python",
   "pygments_lexer": "ipython3",
   "version": "3.7.9"
  }
 },
 "nbformat": 4,
 "nbformat_minor": 4
}
